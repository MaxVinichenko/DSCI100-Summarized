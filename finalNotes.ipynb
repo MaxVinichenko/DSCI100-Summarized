{
 "cells": [
  {
   "cell_type": "markdown",
   "id": "075b56c0-88d5-47db-9c34-cc6667ebbe52",
   "metadata": {},
   "source": [
    "# ATSC 100 Notes\n",
    "**This document contains my notes for my DSCI 100 course, complete with code breakdowns and explinations.**"
   ]
  },
  {
   "cell_type": "markdown",
   "id": "2564f3e3-cca8-4671-9a9b-bc0dce97aad2",
   "metadata": {},
   "source": [
    "## General DSCI Info\n",
    "\n",
    "Data science is the use of reproducible and audible processes to get insight from data.\n",
    "\n",
    "**Problem Types**\n",
    "\n",
    "1. Classification: Predict a new class/category for a new observation.\n",
    "2. Prediction: Predict a value for a new observation.\n",
    "3. Clustering: Find previously unknown unlabelled subgroups in data.\n",
    "4. Inference: Estimate an average or proportion for a representative sample.\n",
    "\n",
    "**Question Types**\n",
    "\n",
    "1. Descriptive: asks bout summarized characteristics of data, no interpretation.\n",
    "    - Ex: How many ppl live in each province in Canada?\n",
    "2. Exploratory: asks whether there are patterns, trends or relationships within a single data set; often to develop a hypothesis for further studies.\n",
    "    - Ex: Does political party voting change with indicators of wealth in a set of 2k ppl in Canada?\n",
    "3. Predictive: a question that asks about predicting a *measurement* / *label* for observations. Focus on what things predict what outcome, NOT what causes the outcome.\n",
    "    - Ex: What political party will a person vote for in next election.\n",
    "4. Inferential: A question that looks for patterns, trends or relationships in a single data set **and** a quantification of how applicable these findings are to the wider population. \n",
    "    - Ex: Does political party voting change with indicators of wealth for *all people* in Canada?\n"
   ]
  },
  {
   "cell_type": "markdown",
   "id": "be841e10-c92d-48be-ad30-628eab93b8ce",
   "metadata": {},
   "source": [
    "Loading data into R: \n",
    "- Use ==asdf=="
   ]
  }
 ],
 "metadata": {
  "kernelspec": {
   "display_name": "R",
   "language": "R",
   "name": "ir"
  },
  "language_info": {
   "codemirror_mode": "r",
   "file_extension": ".r",
   "mimetype": "text/x-r-source",
   "name": "R",
   "pygments_lexer": "r",
   "version": "4.2.2"
  }
 },
 "nbformat": 4,
 "nbformat_minor": 5
}
