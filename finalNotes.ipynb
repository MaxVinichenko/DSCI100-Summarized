{
 "cells": [
  {
   "cell_type": "markdown",
   "id": "075b56c0-88d5-47db-9c34-cc6667ebbe52",
   "metadata": {},
   "source": [
    "# ATSC 100 Notes\n",
    "**This document contains my notes for my DSCI 100 course, complete with code breakdowns and explinations.**"
   ]
  },
  {
   "cell_type": "code",
   "execution_count": 1,
   "id": "f87daf31-f5d8-4b25-a03b-c6518c359b2f",
   "metadata": {
    "tags": []
   },
   "outputs": [],
   "source": [
    "suppressPackageStartupMessages({\n",
    "    library(tidyverse)\n",
    "    library(repr)\n",
    "    library(tidymodels)\n",
    "})\n",
    "\n",
    "set.seed(123)"
   ]
  },
  {
   "cell_type": "markdown",
   "id": "2564f3e3-cca8-4671-9a9b-bc0dce97aad2",
   "metadata": {},
   "source": [
    "## General DSCI Info\n",
    "\n",
    "Data science is the use of reproducible and audible processes to get insight from data.\n",
    "\n",
    "**Problem Types**\n",
    "\n",
    "1. Classification: Predict a new class/category for a new observation.\n",
    "2. Prediction: Predict a value for a new observation.\n",
    "3. Clustering: Find previously unknown unlabelled subgroups in data.\n",
    "4. Inference: Estimate an average or proportion for a representative sample.\n",
    "\n",
    "**Question Types**\n",
    "\n",
    "1. Descriptive: asks bout summarized characteristics of data, no interpretation.\n",
    "    - Ex: How many ppl live in each province in Canada?\n",
    "2. Exploratory: asks whether there are patterns, trends or relationships within a single data set; often to develop a hypothesis for further studies.\n",
    "    - Ex: Does political party voting change with indicators of wealth in a set of 2k ppl in Canada?\n",
    "3. Predictive: a question that asks about predicting a *measurement* / *label* for observations. Focus on what things predict what outcome, NOT what causes the outcome.\n",
    "    - Ex: What political party will a person vote for in next election.\n",
    "4. Inferential: A question that looks for patterns, trends or relationships in a single data set **and** a quantification of how applicable these findings are to the wider population. \n",
    "    - Ex: Does political party voting change with indicators of wealth for *all people* in Canada?\n"
   ]
  },
  {
   "cell_type": "markdown",
   "id": "be841e10-c92d-48be-ad30-628eab93b8ce",
   "metadata": {},
   "source": [
    "### Loading data into R: \n",
    "- Load library: \n",
    "    - `library(tidyverse)`\n",
    "- Use `read_csv()` with only the file path argument string if:\n",
    "    - The data frame has:\n",
    "        - headers \n",
    "        - uses , as the deliminator \n",
    "        - does not have row names "
   ]
  },
  {
   "cell_type": "markdown",
   "id": "52dc6034-a7e6-46ad-b233-7378ec789d44",
   "metadata": {},
   "source": [
    "### Filter & Select \n",
    "- Filter: filter rows based on values.\n",
    "    - `filter(tbl, logicalStatementThatReturnsTrueOrFalse)`\n",
    "- Select: filter columns based on values.\n",
    "    - `select(tbl, logicalStatementThatReturnsTrueOrFalse)`"
   ]
  },
  {
   "cell_type": "markdown",
   "id": "527646ea-53dc-4195-a1a2-69506cc968ac",
   "metadata": {},
   "source": [
    "### Arrange & Slice\n",
    "- Arrange: order observations up/down based on values in a column.\n",
    "    - `arrange(tbl, by=desc(col_name))`\n",
    "    - Ascending is by default, above we specify descending order.\n",
    "- Slice: selects rows based on row nubmer.\n",
    "    - `slice(tbl, 1:10)`\n",
    "    - Above columns 1 through 10 inclusive were selected."
   ]
  },
  {
   "cell_type": "code",
   "execution_count": 2,
   "id": "024693de-1d30-4700-92d9-a8e87a189c6b",
   "metadata": {
    "tags": []
   },
   "outputs": [
    {
     "data": {
      "text/html": [
       "<table class=\"dataframe\">\n",
       "<caption>A tibble: 20 × 7</caption>\n",
       "<thead>\n",
       "\t<tr><th scope=col>Col1</th><th scope=col>Col2</th><th scope=col>Col3</th><th scope=col>Col4</th><th scope=col>Col5</th><th scope=col>Col6</th><th scope=col>Col7</th></tr>\n",
       "\t<tr><th scope=col>&lt;int&gt;</th><th scope=col>&lt;dbl&gt;</th><th scope=col>&lt;chr&gt;</th><th scope=col>&lt;int&gt;</th><th scope=col>&lt;dbl&gt;</th><th scope=col>&lt;dbl&gt;</th><th scope=col>&lt;int&gt;</th></tr>\n",
       "</thead>\n",
       "<tbody>\n",
       "\t<tr><td> 1</td><td>0.28757752</td><td>y</td><td>1</td><td>6.790251</td><td>14.82902</td><td>23</td></tr>\n",
       "\t<tr><td> 2</td><td>0.78830514</td><td>y</td><td>1</td><td>6.756267</td><td>18.90350</td><td>79</td></tr>\n",
       "\t<tr><td> 3</td><td>0.40897692</td><td>i</td><td>1</td><td>6.643162</td><td>19.14438</td><td>85</td></tr>\n",
       "\t<tr><td> 4</td><td>0.88301740</td><td>c</td><td>2</td><td>6.377281</td><td>16.08735</td><td>37</td></tr>\n",
       "\t<tr><td> 5</td><td>0.94046728</td><td>h</td><td>1</td><td>6.107835</td><td>14.10690</td><td> 8</td></tr>\n",
       "\t<tr><td> 6</td><td>0.04555650</td><td>z</td><td>4</td><td>4.876177</td><td>11.47095</td><td>51</td></tr>\n",
       "\t<tr><td> 7</td><td>0.52810549</td><td>g</td><td>0</td><td>4.388075</td><td>19.35300</td><td>74</td></tr>\n",
       "\t<tr><td> 8</td><td>0.89241904</td><td>j</td><td>2</td><td>4.239058</td><td>13.01229</td><td>50</td></tr>\n",
       "\t<tr><td> 9</td><td>0.55143501</td><td>i</td><td>3</td><td>3.610586</td><td>10.60721</td><td>98</td></tr>\n",
       "\t<tr><td>10</td><td>0.45661474</td><td>s</td><td>0</td><td>4.584165</td><td>19.47727</td><td>74</td></tr>\n",
       "\t<tr><td>11</td><td>0.95683335</td><td>d</td><td>2</td><td>2.469207</td><td>17.20596</td><td>86</td></tr>\n",
       "\t<tr><td>12</td><td>0.45333416</td><td>n</td><td>1</td><td>9.337912</td><td>11.42294</td><td>76</td></tr>\n",
       "\t<tr><td>13</td><td>0.67757064</td><td>q</td><td>0</td><td>7.415924</td><td>15.49285</td><td>84</td></tr>\n",
       "\t<tr><td>14</td><td>0.57263340</td><td>k</td><td>3</td><td>2.753783</td><td>19.54091</td><td>46</td></tr>\n",
       "\t<tr><td>15</td><td>0.10292468</td><td>g</td><td>4</td><td>4.194230</td><td>15.85483</td><td>17</td></tr>\n",
       "\t<tr><td>16</td><td>0.89982497</td><td>u</td><td>1</td><td>4.066689</td><td>14.04510</td><td>62</td></tr>\n",
       "\t<tr><td>17</td><td>0.24608773</td><td>l</td><td>2</td><td>6.559930</td><td>16.47893</td><td>46</td></tr>\n",
       "\t<tr><td>18</td><td>0.04205953</td><td>o</td><td>0</td><td>4.833262</td><td>13.19821</td><td>54</td></tr>\n",
       "\t<tr><td>19</td><td>0.32792072</td><td>j</td><td>1</td><td>5.506637</td><td>13.07720</td><td>35</td></tr>\n",
       "\t<tr><td>20</td><td>0.95450365</td><td>m</td><td>1</td><td>4.942906</td><td>12.19768</td><td>94</td></tr>\n",
       "</tbody>\n",
       "</table>\n"
      ],
      "text/latex": [
       "A tibble: 20 × 7\n",
       "\\begin{tabular}{lllllll}\n",
       " Col1 & Col2 & Col3 & Col4 & Col5 & Col6 & Col7\\\\\n",
       " <int> & <dbl> & <chr> & <int> & <dbl> & <dbl> & <int>\\\\\n",
       "\\hline\n",
       "\t  1 & 0.28757752 & y & 1 & 6.790251 & 14.82902 & 23\\\\\n",
       "\t  2 & 0.78830514 & y & 1 & 6.756267 & 18.90350 & 79\\\\\n",
       "\t  3 & 0.40897692 & i & 1 & 6.643162 & 19.14438 & 85\\\\\n",
       "\t  4 & 0.88301740 & c & 2 & 6.377281 & 16.08735 & 37\\\\\n",
       "\t  5 & 0.94046728 & h & 1 & 6.107835 & 14.10690 &  8\\\\\n",
       "\t  6 & 0.04555650 & z & 4 & 4.876177 & 11.47095 & 51\\\\\n",
       "\t  7 & 0.52810549 & g & 0 & 4.388075 & 19.35300 & 74\\\\\n",
       "\t  8 & 0.89241904 & j & 2 & 4.239058 & 13.01229 & 50\\\\\n",
       "\t  9 & 0.55143501 & i & 3 & 3.610586 & 10.60721 & 98\\\\\n",
       "\t 10 & 0.45661474 & s & 0 & 4.584165 & 19.47727 & 74\\\\\n",
       "\t 11 & 0.95683335 & d & 2 & 2.469207 & 17.20596 & 86\\\\\n",
       "\t 12 & 0.45333416 & n & 1 & 9.337912 & 11.42294 & 76\\\\\n",
       "\t 13 & 0.67757064 & q & 0 & 7.415924 & 15.49285 & 84\\\\\n",
       "\t 14 & 0.57263340 & k & 3 & 2.753783 & 19.54091 & 46\\\\\n",
       "\t 15 & 0.10292468 & g & 4 & 4.194230 & 15.85483 & 17\\\\\n",
       "\t 16 & 0.89982497 & u & 1 & 4.066689 & 14.04510 & 62\\\\\n",
       "\t 17 & 0.24608773 & l & 2 & 6.559930 & 16.47893 & 46\\\\\n",
       "\t 18 & 0.04205953 & o & 0 & 4.833262 & 13.19821 & 54\\\\\n",
       "\t 19 & 0.32792072 & j & 1 & 5.506637 & 13.07720 & 35\\\\\n",
       "\t 20 & 0.95450365 & m & 1 & 4.942906 & 12.19768 & 94\\\\\n",
       "\\end{tabular}\n"
      ],
      "text/markdown": [
       "\n",
       "A tibble: 20 × 7\n",
       "\n",
       "| Col1 &lt;int&gt; | Col2 &lt;dbl&gt; | Col3 &lt;chr&gt; | Col4 &lt;int&gt; | Col5 &lt;dbl&gt; | Col6 &lt;dbl&gt; | Col7 &lt;int&gt; |\n",
       "|---|---|---|---|---|---|---|\n",
       "|  1 | 0.28757752 | y | 1 | 6.790251 | 14.82902 | 23 |\n",
       "|  2 | 0.78830514 | y | 1 | 6.756267 | 18.90350 | 79 |\n",
       "|  3 | 0.40897692 | i | 1 | 6.643162 | 19.14438 | 85 |\n",
       "|  4 | 0.88301740 | c | 2 | 6.377281 | 16.08735 | 37 |\n",
       "|  5 | 0.94046728 | h | 1 | 6.107835 | 14.10690 |  8 |\n",
       "|  6 | 0.04555650 | z | 4 | 4.876177 | 11.47095 | 51 |\n",
       "|  7 | 0.52810549 | g | 0 | 4.388075 | 19.35300 | 74 |\n",
       "|  8 | 0.89241904 | j | 2 | 4.239058 | 13.01229 | 50 |\n",
       "|  9 | 0.55143501 | i | 3 | 3.610586 | 10.60721 | 98 |\n",
       "| 10 | 0.45661474 | s | 0 | 4.584165 | 19.47727 | 74 |\n",
       "| 11 | 0.95683335 | d | 2 | 2.469207 | 17.20596 | 86 |\n",
       "| 12 | 0.45333416 | n | 1 | 9.337912 | 11.42294 | 76 |\n",
       "| 13 | 0.67757064 | q | 0 | 7.415924 | 15.49285 | 84 |\n",
       "| 14 | 0.57263340 | k | 3 | 2.753783 | 19.54091 | 46 |\n",
       "| 15 | 0.10292468 | g | 4 | 4.194230 | 15.85483 | 17 |\n",
       "| 16 | 0.89982497 | u | 1 | 4.066689 | 14.04510 | 62 |\n",
       "| 17 | 0.24608773 | l | 2 | 6.559930 | 16.47893 | 46 |\n",
       "| 18 | 0.04205953 | o | 0 | 4.833262 | 13.19821 | 54 |\n",
       "| 19 | 0.32792072 | j | 1 | 5.506637 | 13.07720 | 35 |\n",
       "| 20 | 0.95450365 | m | 1 | 4.942906 | 12.19768 | 94 |\n",
       "\n"
      ],
      "text/plain": [
       "   Col1 Col2       Col3 Col4 Col5     Col6     Col7\n",
       "1   1   0.28757752 y    1    6.790251 14.82902 23  \n",
       "2   2   0.78830514 y    1    6.756267 18.90350 79  \n",
       "3   3   0.40897692 i    1    6.643162 19.14438 85  \n",
       "4   4   0.88301740 c    2    6.377281 16.08735 37  \n",
       "5   5   0.94046728 h    1    6.107835 14.10690  8  \n",
       "6   6   0.04555650 z    4    4.876177 11.47095 51  \n",
       "7   7   0.52810549 g    0    4.388075 19.35300 74  \n",
       "8   8   0.89241904 j    2    4.239058 13.01229 50  \n",
       "9   9   0.55143501 i    3    3.610586 10.60721 98  \n",
       "10 10   0.45661474 s    0    4.584165 19.47727 74  \n",
       "11 11   0.95683335 d    2    2.469207 17.20596 86  \n",
       "12 12   0.45333416 n    1    9.337912 11.42294 76  \n",
       "13 13   0.67757064 q    0    7.415924 15.49285 84  \n",
       "14 14   0.57263340 k    3    2.753783 19.54091 46  \n",
       "15 15   0.10292468 g    4    4.194230 15.85483 17  \n",
       "16 16   0.89982497 u    1    4.066689 14.04510 62  \n",
       "17 17   0.24608773 l    2    6.559930 16.47893 46  \n",
       "18 18   0.04205953 o    0    4.833262 13.19821 54  \n",
       "19 19   0.32792072 j    1    5.506637 13.07720 35  \n",
       "20 20   0.95450365 m    1    4.942906 12.19768 94  "
      ]
     },
     "metadata": {},
     "output_type": "display_data"
    }
   ],
   "source": [
    "random_data <- tibble(\n",
    "  Col1 = 1:20,        \n",
    "  Col2 = runif(20),          # Random uniform distribution\n",
    "  Col3 = sample(letters, 20, replace = TRUE),  # Random letters\n",
    "  Col4 = rpois(20, lambda = 2),               # Random Poisson distribution\n",
    "  Col5 = rnorm(20, mean = 5, sd = 2),          # Random normal with mean and sd\n",
    "  Col6 = runif(20, min = 10, max = 20),       # Random uniform with specified range\n",
    "  Col7 = sample(1:100, 20, replace = TRUE)    # Random integers between 1 and 100\n",
    ")\n",
    "\n",
    "random_data<-tibble(random_data)\n",
    "random_data\n",
    "\n"
   ]
  }
 ],
 "metadata": {
  "kernelspec": {
   "display_name": "R",
   "language": "R",
   "name": "ir"
  },
  "language_info": {
   "codemirror_mode": "r",
   "file_extension": ".r",
   "mimetype": "text/x-r-source",
   "name": "R",
   "pygments_lexer": "r",
   "version": "4.2.2"
  }
 },
 "nbformat": 4,
 "nbformat_minor": 5
}
